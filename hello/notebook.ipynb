{
 "cells": [
  {
   "cell_type": "code",
   "execution_count": 1,
   "metadata": {},
   "outputs": [],
   "source": [
    "my_variable = \"maximilian\""
   ]
  },
  {
   "cell_type": "code",
   "execution_count": 9,
   "metadata": {},
   "outputs": [
    {
     "ename": "TypeError",
     "evalue": "'str' object does not support item assignment",
     "output_type": "error",
     "traceback": [
      "\u001b[1;31m---------------------------------------------------------------------------\u001b[0m",
      "\u001b[1;31mTypeError\u001b[0m                                 Traceback (most recent call last)",
      "\u001b[1;32mr:\\repos\\learn-ye-python\\hello\\notebook.ipynb Cell 2'\u001b[0m in \u001b[0;36m<cell line: 21>\u001b[1;34m()\u001b[0m\n\u001b[0;32m     <a href='vscode-notebook-cell:/r%3A/repos/learn-ye-python/hello/notebook.ipynb#ch0000001?line=17'>18</a>\u001b[0m \u001b[39mr\u001b[39m\u001b[39m\"\u001b[39m\u001b[39mmy \u001b[39m\u001b[39m\\\u001b[39m\u001b[39mtext isn\u001b[39m\u001b[39m'\u001b[39m\u001b[39mt \u001b[39m\u001b[39m\\\u001b[39m\u001b[39minterpreted\u001b[39m\u001b[39m\"\u001b[39m\n\u001b[0;32m     <a href='vscode-notebook-cell:/r%3A/repos/learn-ye-python/hello/notebook.ipynb#ch0000001?line=19'>20</a>\u001b[0m my_str \u001b[39m=\u001b[39m \u001b[39m\"\u001b[39m\u001b[39mabc\u001b[39m\u001b[39m\"\u001b[39m\n\u001b[1;32m---> <a href='vscode-notebook-cell:/r%3A/repos/learn-ye-python/hello/notebook.ipynb#ch0000001?line=20'>21</a>\u001b[0m my_str[\u001b[39m0\u001b[39m] \u001b[39m=\u001b[39m \u001b[39m\"\u001b[39m\u001b[39mf\u001b[39m\u001b[39m\"\u001b[39m\n\u001b[0;32m     <a href='vscode-notebook-cell:/r%3A/repos/learn-ye-python/hello/notebook.ipynb#ch0000001?line=22'>23</a>\u001b[0m \u001b[39mprint\u001b[39m(\u001b[39m\"\u001b[39m\u001b[39mmy \u001b[39m\u001b[39m\\t\u001b[39;00m\u001b[39mext\u001b[39m\u001b[39m\"\u001b[39m)\n",
      "\u001b[1;31mTypeError\u001b[0m: 'str' object does not support item assignment"
     ]
    }
   ],
   "source": [
    "# str\n",
    "\n",
    "''\n",
    "\"\"\n",
    "''' '''\n",
    "\"\"\" \"\"\"\n",
    "\n",
    "# bytes str\n",
    "\n",
    "b\"hello world\"\n",
    "\n",
    "# format str\n",
    "\n",
    "f\"hello {my_variable}\"\n",
    "\n",
    "# raw str\n",
    "\n",
    "r\"my \\text isn't \\interpreted\"\n",
    "\n",
    "my_str = \"abc\"\n",
    "\n",
    "print(\"my \\text\")"
   ]
  },
  {
   "cell_type": "code",
   "execution_count": null,
   "metadata": {},
   "outputs": [],
   "source": [
    "# int\n",
    "\n",
    "123\n",
    "\n",
    "# float\n",
    "\n",
    "123.456"
   ]
  },
  {
   "cell_type": "code",
   "execution_count": 5,
   "metadata": {},
   "outputs": [
    {
     "ename": "IndexError",
     "evalue": "list index out of range",
     "output_type": "error",
     "traceback": [
      "\u001b[1;31m---------------------------------------------------------------------------\u001b[0m",
      "\u001b[1;31mIndexError\u001b[0m                                Traceback (most recent call last)",
      "\u001b[1;32mr:\\repos\\learn-ye-python\\hello\\notebook.ipynb Cell 4'\u001b[0m in \u001b[0;36m<cell line: 7>\u001b[1;34m()\u001b[0m\n\u001b[0;32m      <a href='vscode-notebook-cell:/r%3A/repos/learn-ye-python/hello/notebook.ipynb#ch0000003?line=2'>3</a>\u001b[0m arr \u001b[39m=\u001b[39m [ \u001b[39m1\u001b[39m, \u001b[39m2\u001b[39m, \u001b[39m3\u001b[39m, \u001b[39m'\u001b[39m\u001b[39m1\u001b[39m\u001b[39m'\u001b[39m, \u001b[39m'\u001b[39m\u001b[39m2\u001b[39m\u001b[39m'\u001b[39m, \u001b[39m'\u001b[39m\u001b[39m3\u001b[39m\u001b[39m'\u001b[39m ]\n\u001b[0;32m      <a href='vscode-notebook-cell:/r%3A/repos/learn-ye-python/hello/notebook.ipynb#ch0000003?line=4'>5</a>\u001b[0m arr[\u001b[39m0\u001b[39m]  \u001b[39m# -> 1\u001b[39;00m\n\u001b[1;32m----> <a href='vscode-notebook-cell:/r%3A/repos/learn-ye-python/hello/notebook.ipynb#ch0000003?line=6'>7</a>\u001b[0m arr[\u001b[39m10\u001b[39;49m]\n",
      "\u001b[1;31mIndexError\u001b[0m: list index out of range"
     ]
    }
   ],
   "source": [
    "# list\n",
    "\n",
    "arr = [ 1, 2, 3, '1', '2', '3' ]\n",
    "\n",
    "arr[0]  # -> 1\n",
    "\n",
    "arr.append(10)\n",
    "\n",
    "# arr[10]"
   ]
  },
  {
   "cell_type": "code",
   "execution_count": 4,
   "metadata": {},
   "outputs": [
    {
     "name": "stdout",
     "output_type": "stream",
     "text": [
      "another string\n"
     ]
    }
   ],
   "source": [
    "# dict\n",
    "## keys must be unique\n",
    "dikt = { \"key1\": 123, \"key2\": \"another string\" }\n",
    "\n",
    "dikt[\"key1\"]  # -> 123\n",
    "\n",
    "dikt[\"new_key\"] = 456\n",
    "\n",
    "print(dikt[\"key2\"])"
   ]
  },
  {
   "cell_type": "code",
   "execution_count": 8,
   "metadata": {},
   "outputs": [],
   "source": [
    "# set\n",
    "\n",
    "my_set = { 1, 2, 3, \"5\" }\n",
    "\n",
    "my_set.add(10)"
   ]
  },
  {
   "cell_type": "markdown",
   "metadata": {},
   "source": [
    "# Mutability\n",
    "\n",
    "## Mutable\n",
    "\n",
    "Can change.  Things like lists or dicts\n",
    "\n",
    "## Immutable\n",
    "\n",
    "Cannot change; is frozen.  Constants are a good example of immutability"
   ]
  }
 ],
 "metadata": {
  "interpreter": {
   "hash": "49437ff0f47ac378d7d2bef6756f26b961f2de8adda4bd0bf4e7629dbc047f3d"
  },
  "kernelspec": {
   "display_name": "Python 3.10.2 ('.venv': poetry)",
   "language": "python",
   "name": "python3"
  },
  "language_info": {
   "codemirror_mode": {
    "name": "ipython",
    "version": 3
   },
   "file_extension": ".py",
   "mimetype": "text/x-python",
   "name": "python",
   "nbconvert_exporter": "python",
   "pygments_lexer": "ipython3",
   "version": "3.10.2"
  },
  "orig_nbformat": 4
 },
 "nbformat": 4,
 "nbformat_minor": 2
}
