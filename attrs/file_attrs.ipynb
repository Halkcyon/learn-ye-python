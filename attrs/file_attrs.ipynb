{
 "cells": [
  {
   "cell_type": "code",
   "execution_count": 5,
   "metadata": {},
   "outputs": [
    {
     "name": "stdout",
     "output_type": "stream",
     "text": [
      "0b10000\n"
     ]
    }
   ],
   "source": [
    "import pathlib\n",
    "import stat\n",
    "\n",
    "import rich\n",
    "\n",
    "# https://wiki.python.org/moin/BitwiseOperators\n",
    "file_attrs = pathlib.Path(\".\").stat().st_file_attributes\n",
    "\n",
    "file_attrs & stat.FILE_ATTRIBUTE_ARCHIVE == stat.FILE_ATTRIBUTE_ARCHIVE\n",
    "\n",
    "file_attrs & stat.FILE_ATTRIBUTE_ARCHIVE != 0\n",
    "\n",
    "print(f\"0b{file_attrs:b}\")"
   ]
  },
  {
   "cell_type": "markdown",
   "metadata": {},
   "source": [
    "0b0000 == 0\n",
    "\n",
    "AND GATE\n",
    "--------\n",
    "0b0000 & <ANY> == 0  AND GATE\n",
    "\n",
    "0b0000 & 0b1111 == 0b1111  OR GATE"
   ]
  },
  {
   "cell_type": "code",
   "execution_count": 12,
   "metadata": {},
   "outputs": [
    {
     "data": {
      "text/html": [
       "<pre style=\"white-space:pre;overflow-x:auto;line-height:normal;font-family:Menlo,'DejaVu Sans Mono',consolas,'Courier New',monospace\"><span style=\"color: #ff0000; text-decoration-color: #ff0000; font-style: italic\">False</span>\n",
       "</pre>\n"
      ],
      "text/plain": [
       "\u001b[3;91mFalse\u001b[0m\n"
      ]
     },
     "metadata": {},
     "output_type": "display_data"
    },
    {
     "data": {
      "text/html": [
       "<pre style=\"white-space:pre;overflow-x:auto;line-height:normal;font-family:Menlo,'DejaVu Sans Mono',consolas,'Courier New',monospace\"><span style=\"color: #800080; text-decoration-color: #800080; font-weight: bold\">FileVersion</span><span style=\"font-weight: bold\">(</span><span style=\"color: #808000; text-decoration-color: #808000\">major</span>=<span style=\"color: #008080; text-decoration-color: #008080; font-weight: bold\">3</span>, <span style=\"color: #808000; text-decoration-color: #808000\">minor</span>=<span style=\"color: #008080; text-decoration-color: #008080; font-weight: bold\">6</span>, <span style=\"color: #808000; text-decoration-color: #808000\">patch</span>=<span style=\"color: #008080; text-decoration-color: #008080; font-weight: bold\">8150</span>, <span style=\"color: #808000; text-decoration-color: #808000\">label</span>=<span style=\"color: #008080; text-decoration-color: #008080; font-weight: bold\">1013</span><span style=\"font-weight: bold\">)</span>\n",
       "</pre>\n"
      ],
      "text/plain": [
       "\u001b[1;35mFileVersion\u001b[0m\u001b[1m(\u001b[0m\u001b[33mmajor\u001b[0m=\u001b[1;36m3\u001b[0m, \u001b[33mminor\u001b[0m=\u001b[1;36m6\u001b[0m, \u001b[33mpatch\u001b[0m=\u001b[1;36m8150\u001b[0m, \u001b[33mlabel\u001b[0m=\u001b[1;36m1013\u001b[0m\u001b[1m)\u001b[0m\n"
      ]
     },
     "metadata": {},
     "output_type": "display_data"
    },
    {
     "data": {
      "text/html": [
       "<pre style=\"white-space:pre;overflow-x:auto;line-height:normal;font-family:Menlo,'DejaVu Sans Mono',consolas,'Courier New',monospace\"><span style=\"color: #800080; text-decoration-color: #800080; font-weight: bold\">FileVersion</span><span style=\"font-weight: bold\">(</span><span style=\"color: #808000; text-decoration-color: #808000\">major</span>=<span style=\"color: #008080; text-decoration-color: #008080; font-weight: bold\">3</span>, <span style=\"color: #808000; text-decoration-color: #808000\">minor</span>=<span style=\"color: #008080; text-decoration-color: #008080; font-weight: bold\">10</span>, <span style=\"color: #808000; text-decoration-color: #808000\">patch</span>=<span style=\"color: #008080; text-decoration-color: #008080; font-weight: bold\">2150</span>, <span style=\"color: #808000; text-decoration-color: #808000\">label</span>=<span style=\"color: #008080; text-decoration-color: #008080; font-weight: bold\">1013</span><span style=\"font-weight: bold\">)</span>\n",
       "</pre>\n"
      ],
      "text/plain": [
       "\u001b[1;35mFileVersion\u001b[0m\u001b[1m(\u001b[0m\u001b[33mmajor\u001b[0m=\u001b[1;36m3\u001b[0m, \u001b[33mminor\u001b[0m=\u001b[1;36m10\u001b[0m, \u001b[33mpatch\u001b[0m=\u001b[1;36m2150\u001b[0m, \u001b[33mlabel\u001b[0m=\u001b[1;36m1013\u001b[0m\u001b[1m)\u001b[0m\n"
      ]
     },
     "metadata": {},
     "output_type": "display_data"
    }
   ],
   "source": [
    "from dataclasses import dataclass\n",
    "from pathlib import Path\n",
    "\n",
    "import win32api\n",
    "from rich import print\n",
    "\n",
    "@dataclass(order=True, frozen=True, slots=True)\n",
    "class FileVersion:\n",
    "    major: int\n",
    "    minor: int\n",
    "    patch: int\n",
    "    label: int\n",
    "\n",
    "    def __init__(self, path: str):\n",
    "        # take the `path` and resolve it to the fully-qualified path\n",
    "        path: Path = Path(path).resolve()\n",
    "\n",
    "        if not path.exists():\n",
    "            raise Exception(\"path doesn't exist\")\n",
    "\n",
    "        if path.suffix != \".exe\":\n",
    "            raise Exception(\"path must be .exe\")\n",
    "\n",
    "        # https://stackoverflow.com/a/1237635\n",
    "        # the `\\` represents which information to return from the VS_FIXEDFILEINFO struct, the \"SubBlock\"\n",
    "        # https://docs.microsoft.com/en-us/windows/win32/api/verrsrc/ns-verrsrc-vs_fixedfileinfo#syntax\n",
    "        version_info = win32api.GetFileVersionInfo(str(path), \"\\\\\")\n",
    "\n",
    "        # we cannot use simple field assignment due to `frozen=True`\n",
    "        # https://docs.python.org/3/library/dataclasses.html#frozen-instances\n",
    "        object.__setattr__(self, \"major\", win32api.HIWORD(version_info[\"FileVersionMS\"]))\n",
    "        object.__setattr__(self, \"minor\", win32api.LOWORD(version_info[\"FileVersionMS\"]))\n",
    "        object.__setattr__(self, \"patch\", win32api.HIWORD(version_info[\"FileVersionLS\"]))\n",
    "        object.__setattr__(self, \"label\", win32api.LOWORD(version_info[\"FileVersionLS\"]))\n",
    "\n",
    "py310_version = FileVersion(r\".venv\\Scripts\\python.exe\")\n",
    "py36_version = FileVersion(r\"C:\\Program Files\\Python36\\python.exe\")\n",
    "\n",
    "# info = win32api.GetFileVersionInfo(\".venv\\\\Scripts\\\\python.exe\", \"\\\\\")\n",
    "# file_version_ms = info[\"FileVersionMS\"]\n",
    "# file_version_ls = info[\"FileVersionLS\"]\n",
    "\n",
    "# major = win32api.HIWORD(file_version_ms)\n",
    "# minor = win32api.LOWORD(file_version_ms)\n",
    "# patch = win32api.HIWORD(file_version_ls)\n",
    "# label = win32api.LOWORD(file_version_ls)\n",
    "\n",
    "# py310_version = FileVersion(major, minor, patch, label)\n",
    "\n",
    "# info = win32api.GetFileVersionInfo(\"C:\\\\Program Files\\\\Python36\\\\python.exe\", \"\\\\\")\n",
    "# file_version_ms = info[\"FileVersionMS\"]\n",
    "# file_version_ls = info[\"FileVersionLS\"]\n",
    "\n",
    "# major = win32api.HIWORD(file_version_ms)\n",
    "# minor = win32api.LOWORD(file_version_ms)\n",
    "# patch = win32api.HIWORD(file_version_ls)\n",
    "# label = win32api.LOWORD(file_version_ls)\n",
    "\n",
    "# py36_version = FileVersion(major, minor, patch, label)\n",
    "\n",
    "print(py36_version > py310_version)\n",
    "print(py36_version)\n",
    "print(py310_version)"
   ]
  }
 ],
 "metadata": {
  "interpreter": {
   "hash": "f8270fd49f714fbd403a5ca7aa926264ce5b86d6b4c2bfb96e5e8628c89a8cc9"
  },
  "kernelspec": {
   "display_name": "Python 3.10.2 ('.venv': venv)",
   "language": "python",
   "name": "python3"
  },
  "language_info": {
   "codemirror_mode": {
    "name": "ipython",
    "version": 3
   },
   "file_extension": ".py",
   "mimetype": "text/x-python",
   "name": "python",
   "nbconvert_exporter": "python",
   "pygments_lexer": "ipython3",
   "version": "3.10.2"
  },
  "orig_nbformat": 4
 },
 "nbformat": 4,
 "nbformat_minor": 2
}
